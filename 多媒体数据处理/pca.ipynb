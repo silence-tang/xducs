{
 "cells": [
  {
   "cell_type": "code",
   "execution_count": 1,
   "id": "e38308cb",
   "metadata": {},
   "outputs": [],
   "source": [
    "import numpy as np\n",
    "\n",
    "# 设置numpy结果显示格式\n",
    "np.set_printoptions(suppress=True, \n",
    "\t# precision=20,    # 精确位数\n",
    "\tthreshold=10,      # 每行最多打印多少数据\n",
    "\tlinewidth=200)     # 宽度多少字符换行\n",
    "\n",
    "\n",
    "def pca(X, k):\n",
    "    # 样本中心化,axis=0是计算每一列的均值\n",
    "    X = X - np.mean(X, axis=0)\n",
    "    # 将X变为nxm（5x68040）形式\n",
    "    X = X.T\n",
    "    # 计算协方差矩阵5x5\n",
    "    C_before = (1 / (X.shape[1] - 1)) * np.dot(X, X.T)\n",
    "    # 计算特征值和对应的特征向量矩阵\n",
    "    eigenvalues, eigenvectors = np.linalg.eig(C_before)\n",
    "    # 求出最大的k个特征值的索引，np.argsort返回特征值从小到大排序后的数在原数组中的索引\n",
    "    indexes = np.argsort(eigenvalues)[::-1][:k]  # [::-1]将数组倒序，[:k]取前k个值\n",
    "    # 选择特征向量矩阵中列索引在indexes中的所有列构成最终的投影矩阵\n",
    "    P = eigenvectors[:, indexes]\n",
    "    # 将特征向量转为沿行方向排列，P：5x32\n",
    "    P = P.T\n",
    "    # 计算降维结果Y=PX（P：5x32，X：32x68040）\n",
    "    Y = np.dot(P, X)\n",
    "    # 求降维之后的矩阵协方差\n",
    "    # C_after = np.cov(Y, rowvar=1)\n",
    "    # 先把Y变成68040x5，否则不好直接减去均值\n",
    "    Y = Y.T\n",
    "    Y = Y - np.mean(Y, axis=0)\n",
    "    # 再把Y转回5x68040\n",
    "    Y = Y.T\n",
    "    C_after = (1 / (Y.shape[1] - 1)) * np.dot(Y, Y.T)\n",
    "    \n",
    "    return C_before, Y, C_after"
   ]
  },
  {
   "cell_type": "code",
   "execution_count": 2,
   "id": "d79e8fc2",
   "metadata": {},
   "outputs": [
    {
     "name": "stdout",
     "output_type": "stream",
     "text": [
      "(68040, 32) \n",
      " [[0.002188 0.       0.       ... 0.       0.       0.      ]\n",
      " [0.002917 0.315417 0.188854 ... 0.326562 0.133958 0.011771]\n",
      " [0.000313 0.009825 0.008978 ... 0.001701 0.004701 0.288647]\n",
      " ...\n",
      " [0.163362 0.38669  0.166258 ... 0.001771 0.000834 0.000521]\n",
      " [0.031892 0.119415 0.045017 ... 0.001563 0.000104 0.000833]\n",
      " [0.004899 0.0022   0.001463 ... 0.006875 0.000208 0.000417]]\n"
     ]
    }
   ],
   "source": [
    "# 导入数据集\n",
    "ColorHist = np.loadtxt('ColorHistogram.asc', usecols=range(1, 33))\n",
    "print(ColorHist.shape, '\\n', ColorHist)"
   ]
  },
  {
   "cell_type": "code",
   "execution_count": 3,
   "id": "48bd4590",
   "metadata": {},
   "outputs": [
    {
     "name": "stdout",
     "output_type": "stream",
     "text": [
      "原始数据的协方差矩阵 (32, 32) \n",
      " [[ 0.01069675  0.00312396 -0.00065764 ...  0.00009893 -0.00006514 -0.00018398]\n",
      " [ 0.00312396  0.01495444  0.004956   ...  0.00015231 -0.00001139 -0.00023112]\n",
      " [-0.00065764  0.004956    0.01198136 ...  0.00008408  0.00019491  0.00013184]\n",
      " ...\n",
      " [ 0.00009893  0.00015231  0.00008408 ...  0.00084625  0.00038103  0.00015934]\n",
      " [-0.00006514 -0.00001139  0.00019491 ...  0.00038103  0.00078702  0.00043224]\n",
      " [-0.00018398 -0.00023112  0.00013184 ...  0.00015934  0.00043224  0.00185667]] \n",
      "\n",
      "PCA降维后的数据 (5, 68040) \n",
      " [[-0.31544492 -0.21863173 -0.34753955 ... -0.27255939 -0.04559854  0.01109668]\n",
      " [-0.0179496  -0.03341884 -0.00672474 ... -0.09667564 -0.00850077  0.01036008]\n",
      " [ 0.1383116  -0.11073215  0.06563212 ... -0.15275086  0.06349718  0.26553707]\n",
      " [ 0.38837362 -0.12878784  0.42596456 ... -0.15610792 -0.05805846 -0.07390119]\n",
      " [ 0.03970076 -0.01361756  0.04070145 ... -0.00383758  0.04464355  0.04824296]] \n",
      "\n",
      "降维后数据的协方差矩阵 (5, 5) \n",
      " [[ 0.03101495 -0.          0.         -0.          0.        ]\n",
      " [-0.          0.02764843 -0.          0.         -0.        ]\n",
      " [ 0.         -0.          0.01938009 -0.         -0.        ]\n",
      " [-0.          0.         -0.          0.01570178  0.        ]\n",
      " [ 0.         -0.         -0.          0.          0.01184329]]\n"
     ]
    }
   ],
   "source": [
    "# 降至5维\n",
    "C_before, Y, C_after = pca(ColorHist, 5)\n",
    "# 输出相关结果.\n",
    "print('原始数据的协方差矩阵', C_before.shape, '\\n', C_before, '\\n\\nPCA降维后的数据', Y.shape, '\\n', Y, '\\n\\n降维后数据的协方差矩阵', C_after.shape, '\\n', C_after)"
   ]
  }
 ],
 "metadata": {
  "kernelspec": {
   "display_name": "Python 3.6.13 ('gluon')",
   "language": "python",
   "name": "python3"
  },
  "language_info": {
   "codemirror_mode": {
    "name": "ipython",
    "version": 3
   },
   "file_extension": ".py",
   "mimetype": "text/x-python",
   "name": "python",
   "nbconvert_exporter": "python",
   "pygments_lexer": "ipython3",
   "version": "3.6.13"
  },
  "vscode": {
   "interpreter": {
    "hash": "9862ae77e9daaaf9c9239620ed827aad4ce184b3776eb7a3f75df899d88e405b"
   }
  }
 },
 "nbformat": 4,
 "nbformat_minor": 5
}
